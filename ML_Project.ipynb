{
  "nbformat": 4,
  "nbformat_minor": 0,
  "metadata": {
    "colab": {
      "provenance": []
    },
    "kernelspec": {
      "name": "python3",
      "display_name": "Python 3"
    },
    "language_info": {
      "name": "python"
    },
    "accelerator": "TPU"
  },
  "cells": [
    {
      "cell_type": "markdown",
      "source": [
        "**House Price Prediction<br>\n",
        "A comparative statistical analysis of different types of multiple linear regression.**"
      ],
      "metadata": {
        "id": "ht_AgrjMRGA_"
      }
    },
    {
      "cell_type": "markdown",
      "source": [
        "#Importing libraries and packages"
      ],
      "metadata": {
        "id": "t9Oj97i3SmDh"
      }
    },
    {
      "cell_type": "code",
      "execution_count": null,
      "metadata": {
        "id": "2juzxYFB_aLu"
      },
      "outputs": [],
      "source": [
        "import pandas as pd\n",
        "import numpy as np\n",
        "import matplotlib.pyplot as plt\n",
        "import seaborn as sb\n",
        "from sklearn.model_selection import train_test_split\n",
        "from sklearn.linear_model import LinearRegression\n",
        "from sklearn.linear_model import Ridge\n",
        "from sklearn.linear_model import BayesianRidge\n",
        "from sklearn.metrics import mean_squared_error\n",
        "from sklearn import preprocessing"
      ]
    },
    {
      "cell_type": "markdown",
      "source": [
        "#Importing data"
      ],
      "metadata": {
        "id": "Wj6XNwqSSfOC"
      }
    },
    {
      "cell_type": "code",
      "source": [
        "df = pd.read_csv('/content/drive/MyDrive/Colab Notebooks/House_Data.csv')\n",
        "df.set_index('Id', inplace = True)\n",
        "df.head()"
      ],
      "metadata": {
        "colab": {
          "base_uri": "https://localhost:8080/",
          "height": 238
        },
        "id": "swZZ_YQiADie",
        "outputId": "6ae6b5bd-4453-4664-ab04-c6b11f318644"
      },
      "execution_count": null,
      "outputs": [
        {
          "output_type": "execute_result",
          "data": {
            "text/plain": [
              "    LotArea  MasVnrArea  BsmtUnfSF  TotalBsmtSF  1stFlrSF  2ndFlrSF  \\\n",
              "Id                                                                    \n",
              "1      8450       196.0        150          856       856       854   \n",
              "2      9600         0.0        284         1262      1262         0   \n",
              "3     11250       162.0        434          920       920       866   \n",
              "4      9550         0.0        540          756       961       756   \n",
              "5     14260       350.0        490         1145      1145      1053   \n",
              "\n",
              "    GrLivArea  GarageArea  WoodDeckSF  OpenPorchSF  SalePrice  \n",
              "Id                                                             \n",
              "1        1710         548           0           61     208500  \n",
              "2        1262         460         298            0     181500  \n",
              "3        1786         608           0           42     223500  \n",
              "4        1717         642           0           35     140000  \n",
              "5        2198         836         192           84     250000  "
            ],
            "text/html": [
              "\n",
              "  <div id=\"df-acaea3c0-0875-47ce-bc2a-d761cb0c9529\">\n",
              "    <div class=\"colab-df-container\">\n",
              "      <div>\n",
              "<style scoped>\n",
              "    .dataframe tbody tr th:only-of-type {\n",
              "        vertical-align: middle;\n",
              "    }\n",
              "\n",
              "    .dataframe tbody tr th {\n",
              "        vertical-align: top;\n",
              "    }\n",
              "\n",
              "    .dataframe thead th {\n",
              "        text-align: right;\n",
              "    }\n",
              "</style>\n",
              "<table border=\"1\" class=\"dataframe\">\n",
              "  <thead>\n",
              "    <tr style=\"text-align: right;\">\n",
              "      <th></th>\n",
              "      <th>LotArea</th>\n",
              "      <th>MasVnrArea</th>\n",
              "      <th>BsmtUnfSF</th>\n",
              "      <th>TotalBsmtSF</th>\n",
              "      <th>1stFlrSF</th>\n",
              "      <th>2ndFlrSF</th>\n",
              "      <th>GrLivArea</th>\n",
              "      <th>GarageArea</th>\n",
              "      <th>WoodDeckSF</th>\n",
              "      <th>OpenPorchSF</th>\n",
              "      <th>SalePrice</th>\n",
              "    </tr>\n",
              "    <tr>\n",
              "      <th>Id</th>\n",
              "      <th></th>\n",
              "      <th></th>\n",
              "      <th></th>\n",
              "      <th></th>\n",
              "      <th></th>\n",
              "      <th></th>\n",
              "      <th></th>\n",
              "      <th></th>\n",
              "      <th></th>\n",
              "      <th></th>\n",
              "      <th></th>\n",
              "    </tr>\n",
              "  </thead>\n",
              "  <tbody>\n",
              "    <tr>\n",
              "      <th>1</th>\n",
              "      <td>8450</td>\n",
              "      <td>196.0</td>\n",
              "      <td>150</td>\n",
              "      <td>856</td>\n",
              "      <td>856</td>\n",
              "      <td>854</td>\n",
              "      <td>1710</td>\n",
              "      <td>548</td>\n",
              "      <td>0</td>\n",
              "      <td>61</td>\n",
              "      <td>208500</td>\n",
              "    </tr>\n",
              "    <tr>\n",
              "      <th>2</th>\n",
              "      <td>9600</td>\n",
              "      <td>0.0</td>\n",
              "      <td>284</td>\n",
              "      <td>1262</td>\n",
              "      <td>1262</td>\n",
              "      <td>0</td>\n",
              "      <td>1262</td>\n",
              "      <td>460</td>\n",
              "      <td>298</td>\n",
              "      <td>0</td>\n",
              "      <td>181500</td>\n",
              "    </tr>\n",
              "    <tr>\n",
              "      <th>3</th>\n",
              "      <td>11250</td>\n",
              "      <td>162.0</td>\n",
              "      <td>434</td>\n",
              "      <td>920</td>\n",
              "      <td>920</td>\n",
              "      <td>866</td>\n",
              "      <td>1786</td>\n",
              "      <td>608</td>\n",
              "      <td>0</td>\n",
              "      <td>42</td>\n",
              "      <td>223500</td>\n",
              "    </tr>\n",
              "    <tr>\n",
              "      <th>4</th>\n",
              "      <td>9550</td>\n",
              "      <td>0.0</td>\n",
              "      <td>540</td>\n",
              "      <td>756</td>\n",
              "      <td>961</td>\n",
              "      <td>756</td>\n",
              "      <td>1717</td>\n",
              "      <td>642</td>\n",
              "      <td>0</td>\n",
              "      <td>35</td>\n",
              "      <td>140000</td>\n",
              "    </tr>\n",
              "    <tr>\n",
              "      <th>5</th>\n",
              "      <td>14260</td>\n",
              "      <td>350.0</td>\n",
              "      <td>490</td>\n",
              "      <td>1145</td>\n",
              "      <td>1145</td>\n",
              "      <td>1053</td>\n",
              "      <td>2198</td>\n",
              "      <td>836</td>\n",
              "      <td>192</td>\n",
              "      <td>84</td>\n",
              "      <td>250000</td>\n",
              "    </tr>\n",
              "  </tbody>\n",
              "</table>\n",
              "</div>\n",
              "      <button class=\"colab-df-convert\" onclick=\"convertToInteractive('df-acaea3c0-0875-47ce-bc2a-d761cb0c9529')\"\n",
              "              title=\"Convert this dataframe to an interactive table.\"\n",
              "              style=\"display:none;\">\n",
              "        \n",
              "  <svg xmlns=\"http://www.w3.org/2000/svg\" height=\"24px\"viewBox=\"0 0 24 24\"\n",
              "       width=\"24px\">\n",
              "    <path d=\"M0 0h24v24H0V0z\" fill=\"none\"/>\n",
              "    <path d=\"M18.56 5.44l.94 2.06.94-2.06 2.06-.94-2.06-.94-.94-2.06-.94 2.06-2.06.94zm-11 1L8.5 8.5l.94-2.06 2.06-.94-2.06-.94L8.5 2.5l-.94 2.06-2.06.94zm10 10l.94 2.06.94-2.06 2.06-.94-2.06-.94-.94-2.06-.94 2.06-2.06.94z\"/><path d=\"M17.41 7.96l-1.37-1.37c-.4-.4-.92-.59-1.43-.59-.52 0-1.04.2-1.43.59L10.3 9.45l-7.72 7.72c-.78.78-.78 2.05 0 2.83L4 21.41c.39.39.9.59 1.41.59.51 0 1.02-.2 1.41-.59l7.78-7.78 2.81-2.81c.8-.78.8-2.07 0-2.86zM5.41 20L4 18.59l7.72-7.72 1.47 1.35L5.41 20z\"/>\n",
              "  </svg>\n",
              "      </button>\n",
              "      \n",
              "  <style>\n",
              "    .colab-df-container {\n",
              "      display:flex;\n",
              "      flex-wrap:wrap;\n",
              "      gap: 12px;\n",
              "    }\n",
              "\n",
              "    .colab-df-convert {\n",
              "      background-color: #E8F0FE;\n",
              "      border: none;\n",
              "      border-radius: 50%;\n",
              "      cursor: pointer;\n",
              "      display: none;\n",
              "      fill: #1967D2;\n",
              "      height: 32px;\n",
              "      padding: 0 0 0 0;\n",
              "      width: 32px;\n",
              "    }\n",
              "\n",
              "    .colab-df-convert:hover {\n",
              "      background-color: #E2EBFA;\n",
              "      box-shadow: 0px 1px 2px rgba(60, 64, 67, 0.3), 0px 1px 3px 1px rgba(60, 64, 67, 0.15);\n",
              "      fill: #174EA6;\n",
              "    }\n",
              "\n",
              "    [theme=dark] .colab-df-convert {\n",
              "      background-color: #3B4455;\n",
              "      fill: #D2E3FC;\n",
              "    }\n",
              "\n",
              "    [theme=dark] .colab-df-convert:hover {\n",
              "      background-color: #434B5C;\n",
              "      box-shadow: 0px 1px 3px 1px rgba(0, 0, 0, 0.15);\n",
              "      filter: drop-shadow(0px 1px 2px rgba(0, 0, 0, 0.3));\n",
              "      fill: #FFFFFF;\n",
              "    }\n",
              "  </style>\n",
              "\n",
              "      <script>\n",
              "        const buttonEl =\n",
              "          document.querySelector('#df-acaea3c0-0875-47ce-bc2a-d761cb0c9529 button.colab-df-convert');\n",
              "        buttonEl.style.display =\n",
              "          google.colab.kernel.accessAllowed ? 'block' : 'none';\n",
              "\n",
              "        async function convertToInteractive(key) {\n",
              "          const element = document.querySelector('#df-acaea3c0-0875-47ce-bc2a-d761cb0c9529');\n",
              "          const dataTable =\n",
              "            await google.colab.kernel.invokeFunction('convertToInteractive',\n",
              "                                                     [key], {});\n",
              "          if (!dataTable) return;\n",
              "\n",
              "          const docLinkHtml = 'Like what you see? Visit the ' +\n",
              "            '<a target=\"_blank\" href=https://colab.research.google.com/notebooks/data_table.ipynb>data table notebook</a>'\n",
              "            + ' to learn more about interactive tables.';\n",
              "          element.innerHTML = '';\n",
              "          dataTable['output_type'] = 'display_data';\n",
              "          await google.colab.output.renderOutput(dataTable, element);\n",
              "          const docLink = document.createElement('div');\n",
              "          docLink.innerHTML = docLinkHtml;\n",
              "          element.appendChild(docLink);\n",
              "        }\n",
              "      </script>\n",
              "    </div>\n",
              "  </div>\n",
              "  "
            ]
          },
          "metadata": {},
          "execution_count": 2
        }
      ]
    },
    {
      "cell_type": "markdown",
      "source": [
        "#Data Preprocessing"
      ],
      "metadata": {
        "id": "mBTwYnK1S0Dy"
      }
    },
    {
      "cell_type": "code",
      "source": [
        "df.dropna(inplace = True)"
      ],
      "metadata": {
        "id": "QRGmevzuCpyg"
      },
      "execution_count": null,
      "outputs": []
    },
    {
      "cell_type": "code",
      "source": [
        "print(df.dtypes)"
      ],
      "metadata": {
        "colab": {
          "base_uri": "https://localhost:8080/"
        },
        "id": "S7BkwuLjDBPV",
        "outputId": "15727a5b-e3ce-4321-a5bf-2695bf2e9cc7"
      },
      "execution_count": null,
      "outputs": [
        {
          "output_type": "stream",
          "name": "stdout",
          "text": [
            "LotArea          int64\n",
            "MasVnrArea     float64\n",
            "BsmtUnfSF        int64\n",
            "TotalBsmtSF      int64\n",
            "1stFlrSF         int64\n",
            "2ndFlrSF         int64\n",
            "GrLivArea        int64\n",
            "GarageArea       int64\n",
            "WoodDeckSF       int64\n",
            "OpenPorchSF      int64\n",
            "SalePrice        int64\n",
            "dtype: object\n"
          ]
        }
      ]
    },
    {
      "cell_type": "code",
      "source": [
        "df['MasVnrArea'] = df['MasVnrArea'].astype('int64')"
      ],
      "metadata": {
        "id": "om_cfIXMDaID"
      },
      "execution_count": null,
      "outputs": []
    },
    {
      "cell_type": "code",
      "source": [
        "print(df.dtypes)"
      ],
      "metadata": {
        "colab": {
          "base_uri": "https://localhost:8080/"
        },
        "id": "je0IJ3vGEOnH",
        "outputId": "8fa0c031-d977-46f1-967c-a5b02a53d9bc"
      },
      "execution_count": null,
      "outputs": [
        {
          "output_type": "stream",
          "name": "stdout",
          "text": [
            "LotArea        int64\n",
            "MasVnrArea     int64\n",
            "BsmtUnfSF      int64\n",
            "TotalBsmtSF    int64\n",
            "1stFlrSF       int64\n",
            "2ndFlrSF       int64\n",
            "GrLivArea      int64\n",
            "GarageArea     int64\n",
            "WoodDeckSF     int64\n",
            "OpenPorchSF    int64\n",
            "SalePrice      int64\n",
            "dtype: object\n"
          ]
        }
      ]
    },
    {
      "cell_type": "markdown",
      "source": [
        "#Data Visualization"
      ],
      "metadata": {
        "id": "kLH6pERdS3-l"
      }
    },
    {
      "cell_type": "code",
      "source": [
        "sb.displot(df['SalePrice'], color = 'r')\n",
        "plt.title('Sale Price Distribution', fontsize = 16)\n",
        "plt.xlabel('Sale Price', fontsize = 14)\n",
        "plt.ylabel('Frequency', fontsize = 14)\n",
        "plt.xticks(fontsize = 6)\n",
        "plt.yticks(fontsize = 6)\n",
        "plt.show()"
      ],
      "metadata": {
        "colab": {
          "base_uri": "https://localhost:8080/",
          "height": 531
        },
        "id": "XEHJ6PThEQy1",
        "outputId": "c4735d3c-473e-444c-f65f-1f08960db111"
      },
      "execution_count": null,
      "outputs": [
        {
          "output_type": "display_data",
          "data": {
            "text/plain": [
              "<Figure size 500x500 with 1 Axes>"
            ],
            "image/png": "[encoded data removed]"
          },
          "metadata": {}
        }
      ]
    },
    {
      "cell_type": "markdown",
      "source": [
        "#Train-Test Split"
      ],
      "metadata": {
        "id": "RBEjeCKgS7jT"
      }
    },
    {
      "cell_type": "code",
      "source": [
        "X_var = df[['LotArea', 'MasVnrArea', 'BsmtUnfSF', 'TotalBsmtSF', '1stFlrSF', '2ndFlrSF', 'GrLivArea', 'GarageArea', 'WoodDeckSF', 'OpenPorchSF']].values\n",
        "y_var = df['SalePrice'].values\n",
        "\n",
        "X_train, X_test, y_train, y_test = train_test_split(X_var, y_var, test_size = 0.2, random_state = 0)"
      ],
      "metadata": {
        "id": "RmvhSQIhFSpa"
      },
      "execution_count": null,
      "outputs": []
    },
    {
      "cell_type": "markdown",
      "source": [
        "#Multiple Linear Regression"
      ],
      "metadata": {
        "id": "OUPFbRoES_Ru"
      }
    },
    {
      "cell_type": "code",
      "source": [
        "l = LinearRegression()\n",
        "l.fit(X_train, y_train)\n",
        "l_pred = l.predict(X_test)"
      ],
      "metadata": {
        "id": "FLlRK3a9HpMc"
      },
      "execution_count": null,
      "outputs": []
    },
    {
      "cell_type": "code",
      "source": [
        "#y = mx + c\n",
        "print(l.coef_)\n",
        "print(l.intercept_)"
      ],
      "metadata": {
        "colab": {
          "base_uri": "https://localhost:8080/"
        },
        "id": "9SCWCMe0UkJ-",
        "outputId": "5726e133-fef8-4ba1-b19d-bab94493ddeb"
      },
      "execution_count": null,
      "outputs": [
        {
          "output_type": "stream",
          "name": "stdout",
          "text": [
            "[ 6.74063536e-02  4.16660930e+01 -8.47738499e+00  4.65822024e+01\n",
            "  7.21388885e+01  8.08777271e+01 -1.43800306e+01  9.21163095e+01\n",
            "  5.52941450e+01  2.58540124e+01]\n",
            "-9288.815163146472\n"
          ]
        }
      ]
    },
    {
      "cell_type": "code",
      "source": [
        "tested = l.predict(X_test)\n",
        "tested[5]"
      ],
      "metadata": {
        "colab": {
          "base_uri": "https://localhost:8080/"
        },
        "id": "ZyOZlBQ1lt-6",
        "outputId": "3909d885-c185-4a0c-e2eb-efc55439a367"
      },
      "execution_count": null,
      "outputs": [
        {
          "output_type": "execute_result",
          "data": {
            "text/plain": [
              "198178.74235990716"
            ]
          },
          "metadata": {},
          "execution_count": 15
        }
      ]
    },
    {
      "cell_type": "code",
      "source": [
        "mse = mean_squared_error(y_test,l_pred)\n",
        "print(mse)"
      ],
      "metadata": {
        "colab": {
          "base_uri": "https://localhost:8080/"
        },
        "id": "v7JWjdW1IeMG",
        "outputId": "2a3454e5-3f21-436a-b99a-0514ca2febce"
      },
      "execution_count": null,
      "outputs": [
        {
          "output_type": "stream",
          "name": "stdout",
          "text": [
            "1463387105.3929498\n"
          ]
        }
      ]
    },
    {
      "cell_type": "code",
      "source": [
        "fig = plt.figure(figsize=(3,3))\n",
        "residuals = ((y_test- l_pred)**2)/len(y_test)\n",
        "sb.displot(residuals, kde = 'true')"
      ],
      "metadata": {
        "colab": {
          "base_uri": "https://localhost:8080/",
          "height": 541
        },
        "id": "A-v6WkhmVeTZ",
        "outputId": "b8d25c72-eb65-441d-faa1-cb33e8879b8c"
      },
      "execution_count": null,
      "outputs": [
        {
          "output_type": "execute_result",
          "data": {
            "text/plain": [
              "<seaborn.axisgrid.FacetGrid at 0x7f6bcc192440>"
            ]
          },
          "metadata": {},
          "execution_count": 12
        },
        {
          "output_type": "display_data",
          "data": {
            "text/plain": [
              "<Figure size 300x300 with 0 Axes>"
            ]
          },
          "metadata": {}
        },
        {
          "output_type": "display_data",
          "data": {
            "text/plain": [
              "<Figure size 500x500 with 1 Axes>"
            ],
            "image/png": "[encoded data removed]"
          },
          "metadata": {}
        }
      ]
    },
    {
      "cell_type": "markdown",
      "source": [
        "#Ridge Regression"
      ],
      "metadata": {
        "id": "QGRPheGaTE_J"
      }
    },
    {
      "cell_type": "code",
      "source": [
        "ridge = Ridge(alpha = 0.5)\n",
        "ridge.fit(X_train, y_train)\n",
        "ridge_pred = ridge.predict(X_test)"
      ],
      "metadata": {
        "id": "JUjZIzNiJZOu"
      },
      "execution_count": null,
      "outputs": []
    },
    {
      "cell_type": "code",
      "source": [
        "print(ridge.coef_)\n",
        "print(ridge.intercept_)"
      ],
      "metadata": {
        "colab": {
          "base_uri": "https://localhost:8080/"
        },
        "id": "1uXmcG0PUz3M",
        "outputId": "affffe25-8700-459f-d378-9ddf669a69c6"
      },
      "execution_count": null,
      "outputs": [
        {
          "output_type": "stream",
          "name": "stdout",
          "text": [
            "[ 6.74063570e-02  4.16660934e+01 -8.47738504e+00  4.65822029e+01\n",
            "  7.21388601e+01  8.08776989e+01 -1.43800028e+01  9.21163092e+01\n",
            "  5.52941438e+01  2.58540101e+01]\n",
            "-9288.814805208036\n"
          ]
        }
      ]
    },
    {
      "cell_type": "code",
      "source": [
        "mse2 = mean_squared_error(y_test,ridge_pred)\n",
        "print(mse2)"
      ],
      "metadata": {
        "colab": {
          "base_uri": "https://localhost:8080/"
        },
        "outputId": "f2ccaf21-77d7-4a6d-c1f7-47594cde5f87",
        "id": "dN1N4-iGKBs0"
      },
      "execution_count": null,
      "outputs": [
        {
          "output_type": "stream",
          "name": "stdout",
          "text": [
            "1463387105.907563\n"
          ]
        }
      ]
    },
    {
      "cell_type": "code",
      "source": [
        "fig = plt.figure(figsize=(10,6))\n",
        "residuals = ((y_test- ridge_pred)**2)/len(y_test)\n",
        "sb.histplot(residuals)"
      ],
      "metadata": {
        "colab": {
          "base_uri": "https://localhost:8080/",
          "height": 557
        },
        "id": "vSJ-PiOFXN7F",
        "outputId": "a14bd1e0-a59d-4df2-d142-4489126c8da7"
      },
      "execution_count": null,
      "outputs": [
        {
          "output_type": "execute_result",
          "data": {
            "text/plain": [
              "<Axes: ylabel='Count'>"
            ]
          },
          "metadata": {},
          "execution_count": 81
        },
        {
          "output_type": "display_data",
          "data": {
            "text/plain": [
              "<Figure size 1000x600 with 1 Axes>"
            ],
            "image/png": "[encoded data removed]"
          },
          "metadata": {}
        }
      ]
    },
    {
      "cell_type": "markdown",
      "source": [
        "#Bayesian Ridge Regression"
      ],
      "metadata": {
        "id": "aU34x2TjTIk3"
      }
    },
    {
      "cell_type": "code",
      "source": [
        "bayesian = BayesianRidge()\n",
        "bayesian.fit(X_train, y_train)\n",
        "bayesian_pred = bayesian.predict(X_test)"
      ],
      "metadata": {
        "id": "gBrIx_RNKJW9"
      },
      "execution_count": null,
      "outputs": []
    },
    {
      "cell_type": "code",
      "source": [
        "print(bayesian.coef_)\n",
        "print(bayesian.intercept_)"
      ],
      "metadata": {
        "colab": {
          "base_uri": "https://localhost:8080/"
        },
        "id": "55_mdiewVCcr",
        "outputId": "5b335f10-a579-40eb-cdf8-a3dc52d7ce47"
      },
      "execution_count": null,
      "outputs": [
        {
          "output_type": "stream",
          "name": "stdout",
          "text": [
            "[ 7.25603327e-02  4.17639348e+01 -8.50273911e+00  4.70477410e+01\n",
            "  4.53298617e+01  5.40104304e+01  1.23113724e+01  9.09671811e+01\n",
            "  5.29819077e+01  2.21835170e+01]\n",
            "-8884.03412664248\n"
          ]
        }
      ]
    },
    {
      "cell_type": "code",
      "source": [
        "mse3 = mean_squared_error(y_test,bayesian_pred)\n",
        "print(mse3)"
      ],
      "metadata": {
        "colab": {
          "base_uri": "https://localhost:8080/"
        },
        "id": "dbLejUPzK1oi",
        "outputId": "a935e024-584f-4afa-9b82-a171fa6a2db0"
      },
      "execution_count": null,
      "outputs": [
        {
          "output_type": "stream",
          "name": "stdout",
          "text": [
            "1466577739.4335241\n"
          ]
        }
      ]
    },
    {
      "cell_type": "code",
      "source": [
        "fig = plt.figure(figsize=(10,6))\n",
        "residuals = ((y_test- bayesian_pred)**2)/len(y_test)\n",
        "sb.histplot(residuals)"
      ],
      "metadata": {
        "colab": {
          "base_uri": "https://localhost:8080/",
          "height": 557
        },
        "id": "qyC_Up2QYSFW",
        "outputId": "585d88a9-7ad1-40de-9bec-373fb2a946f5"
      },
      "execution_count": null,
      "outputs": [
        {
          "output_type": "execute_result",
          "data": {
            "text/plain": [
              "<Axes: ylabel='Count'>"
            ]
          },
          "metadata": {},
          "execution_count": 85
        },
        {
          "output_type": "display_data",
          "data": {
            "text/plain": [
              "<Figure size 1000x600 with 1 Axes>"
            ],
            "image/png": "[encoded data removed]"
          },
          "metadata": {}
        }
      ]
    },
    {
      "cell_type": "code",
      "source": [
        "residuals[15]"
      ],
      "metadata": {
        "colab": {
          "base_uri": "https://localhost:8080/"
        },
        "id": "I9czkk4aJ9II",
        "outputId": "d355ac36-4faa-4d88-e6b5-8dce8e178fb2"
      },
      "execution_count": null,
      "outputs": [
        {
          "output_type": "execute_result",
          "data": {
            "text/plain": [
              "97771140.22406408"
            ]
          },
          "metadata": {},
          "execution_count": 86
        }
      ]
    },
    {
      "cell_type": "markdown",
      "source": [
        "#Best Approach"
      ],
      "metadata": {
        "id": "QNWFO1KvTYds"
      }
    },
    {
      "cell_type": "code",
      "source": [
        "min_arr = [mse,mse2,mse3]\n",
        "print(min_arr)\n",
        "ind = min_arr.index(min(min_arr))"
      ],
      "metadata": {
        "colab": {
          "base_uri": "https://localhost:8080/"
        },
        "id": "f2C53f17L5Ym",
        "outputId": "76f715cc-fb67-40ad-97c1-c37ec461a8ed"
      },
      "execution_count": null,
      "outputs": [
        {
          "output_type": "stream",
          "name": "stdout",
          "text": [
            "[1463387105.3929498, 1463387105.907563, 1466577739.4335241]\n"
          ]
        }
      ]
    },
    {
      "cell_type": "code",
      "source": [
        "if(ind == 0):\n",
        "  print(\"Least error is in Linear Regression\")\n",
        "elif(ind == 1):\n",
        "  print(\"Least error is in Ridge Algorithm\")\n",
        "else:\n",
        "  print(\"Least error is in Bayesian approach\")"
      ],
      "metadata": {
        "colab": {
          "base_uri": "https://localhost:8080/"
        },
        "id": "9IfFAxO2METm",
        "outputId": "488cad45-86af-4164-9430-a5bf55a69199"
      },
      "execution_count": null,
      "outputs": [
        {
          "output_type": "stream",
          "name": "stdout",
          "text": [
            "Least error is in Linear Regression\n"
          ]
        }
      ]
    },
    {
      "cell_type": "markdown",
      "source": [
        "#Extra: Deep Learning using Keras Neural Networks"
      ],
      "metadata": {
        "id": "R_owgvrRTdJg"
      }
    },
    {
      "cell_type": "code",
      "source": [
        "import tensorflow as tf\n",
        "import tensorflow\n",
        "from tensorflow import keras"
      ],
      "metadata": {
        "id": "kZMZXsZuOipw"
      },
      "execution_count": null,
      "outputs": []
    },
    {
      "cell_type": "code",
      "source": [
        "from tensorflow.keras.models import Sequential\n",
        "from tensorflow.keras.layers import Dense, Activation\n",
        "from tensorflow.keras.optimizers import Adam"
      ],
      "metadata": {
        "id": "DYXO9th7Zlte"
      },
      "execution_count": null,
      "outputs": []
    },
    {
      "cell_type": "code",
      "source": [
        "model = Sequential()\n",
        "model.add(Dense(10,activation='relu'))\n",
        "model.add(Dense(10,activation='relu'))\n",
        "model.add(Dense(10,activation='relu'))\n",
        "model.add(Dense(10,activation='relu'))\n",
        "model.add(Dense(1))\n",
        "model.compile(optimizer='Adam',loss='mse')"
      ],
      "metadata": {
        "id": "v9MDbpXuSNtb"
      },
      "execution_count": null,
      "outputs": []
    },
    {
      "cell_type": "code",
      "source": [
        "dataset = df.values\n",
        "X_f = dataset[:,0:10]\n",
        "min_max_scaler = preprocessing.MinMaxScaler()\n",
        "X_scale = min_max_scaler.fit_transform(X_f)"
      ],
      "metadata": {
        "id": "9Sa5Jp_7h6GU"
      },
      "execution_count": null,
      "outputs": []
    },
    {
      "cell_type": "code",
      "source": [
        "X_train, X_test, y_train, y_test = train_test_split(X_f, y_var, test_size = 0.2, random_state = 0)"
      ],
      "metadata": {
        "id": "tsrSdBnljdKw"
      },
      "execution_count": null,
      "outputs": []
    },
    {
      "cell_type": "code",
      "source": [
        "model.fit(x=X_train,y=y_train,validation_data=(X_test,y_test),epochs=100)\n",
        "model.summary()"
      ],
      "metadata": {
        "colab": {
          "base_uri": "https://localhost:8080/"
        },
        "id": "01qCdEsDS22u",
        "outputId": "97cc6a26-c53f-4506-ef0a-4a840e0df6fb"
      },
      "execution_count": null,
      "outputs": [
        {
          "output_type": "stream",
          "name": "stdout",
          "text": [
            "Epoch 1/100\n",
            "37/37 [==============================] - 2s 8ms/step - loss: 38185283584.0000 - val_loss: 40783343616.0000\n",
            "Epoch 2/100\n",
            "37/37 [==============================] - 0s 4ms/step - loss: 37930156032.0000 - val_loss: 40387158016.0000\n",
            "Epoch 3/100\n",
            "37/37 [==============================] - 0s 4ms/step - loss: 37347565568.0000 - val_loss: 39436787712.0000\n",
            "Epoch 4/100\n",
            "37/37 [==============================] - 0s 4ms/step - loss: 35955630080.0000 - val_loss: 37242511360.0000\n",
            "Epoch 5/100\n",
            "37/37 [==============================] - 0s 4ms/step - loss: 32819290112.0000 - val_loss: 32303400960.0000\n",
            "Epoch 6/100\n",
            "37/37 [==============================] - 0s 3ms/step - loss: 26598920192.0000 - val_loss: 23155945472.0000\n",
            "Epoch 7/100\n",
            "37/37 [==============================] - 0s 3ms/step - loss: 17440167936.0000 - val_loss: 11859603456.0000\n",
            "Epoch 8/100\n",
            "37/37 [==============================] - 0s 3ms/step - loss: 11378935808.0000 - val_loss: 7455933440.0000\n",
            "Epoch 9/100\n",
            "37/37 [==============================] - 0s 4ms/step - loss: 9746553856.0000 - val_loss: 6260078592.0000\n",
            "Epoch 10/100\n",
            "37/37 [==============================] - 0s 4ms/step - loss: 8939405312.0000 - val_loss: 5907353088.0000\n",
            "Epoch 11/100\n",
            "37/37 [==============================] - 0s 4ms/step - loss: 8233692160.0000 - val_loss: 5165867008.0000\n",
            "Epoch 12/100\n",
            "37/37 [==============================] - 0s 4ms/step - loss: 7675598848.0000 - val_loss: 4810654720.0000\n",
            "Epoch 13/100\n",
            "37/37 [==============================] - 0s 4ms/step - loss: 7201507328.0000 - val_loss: 4412439040.0000\n",
            "Epoch 14/100\n",
            "37/37 [==============================] - 0s 5ms/step - loss: 6693810176.0000 - val_loss: 4127010560.0000\n",
            "Epoch 15/100\n",
            "37/37 [==============================] - 0s 4ms/step - loss: 6330236928.0000 - val_loss: 3810977792.0000\n",
            "Epoch 16/100\n",
            "37/37 [==============================] - 0s 5ms/step - loss: 5860140544.0000 - val_loss: 3479422208.0000\n",
            "Epoch 17/100\n",
            "37/37 [==============================] - 0s 5ms/step - loss: 5481941504.0000 - val_loss: 3248610560.0000\n",
            "Epoch 18/100\n",
            "37/37 [==============================] - 0s 4ms/step - loss: 5250799616.0000 - val_loss: 3074087680.0000\n",
            "Epoch 19/100\n",
            "37/37 [==============================] - 0s 4ms/step - loss: 4830217728.0000 - val_loss: 2845045248.0000\n",
            "Epoch 20/100\n",
            "37/37 [==============================] - 0s 4ms/step - loss: 4555493888.0000 - val_loss: 2710942464.0000\n",
            "Epoch 21/100\n",
            "37/37 [==============================] - 0s 4ms/step - loss: 4289891584.0000 - val_loss: 2604050176.0000\n",
            "Epoch 22/100\n",
            "37/37 [==============================] - 0s 4ms/step - loss: 4109218048.0000 - val_loss: 2462239488.0000\n",
            "Epoch 23/100\n",
            "37/37 [==============================] - 0s 4ms/step - loss: 3936930048.0000 - val_loss: 2369163008.0000\n",
            "Epoch 24/100\n",
            "37/37 [==============================] - 0s 4ms/step - loss: 3799516416.0000 - val_loss: 2310628096.0000\n",
            "Epoch 25/100\n",
            "37/37 [==============================] - 0s 4ms/step - loss: 3680550912.0000 - val_loss: 2260396288.0000\n",
            "Epoch 26/100\n",
            "37/37 [==============================] - 0s 5ms/step - loss: 3541414656.0000 - val_loss: 2144918016.0000\n",
            "Epoch 27/100\n",
            "37/37 [==============================] - 0s 4ms/step - loss: 3447139328.0000 - val_loss: 2142168192.0000\n",
            "Epoch 28/100\n",
            "37/37 [==============================] - 0s 4ms/step - loss: 3355975680.0000 - val_loss: 2080652928.0000\n",
            "Epoch 29/100\n",
            "37/37 [==============================] - 0s 4ms/step - loss: 3258311168.0000 - val_loss: 2023789312.0000\n",
            "Epoch 30/100\n",
            "37/37 [==============================] - 0s 4ms/step - loss: 3192698368.0000 - val_loss: 2026311680.0000\n",
            "Epoch 31/100\n",
            "37/37 [==============================] - 0s 5ms/step - loss: 3123280640.0000 - val_loss: 1984176896.0000\n",
            "Epoch 32/100\n",
            "37/37 [==============================] - 0s 7ms/step - loss: 3024675328.0000 - val_loss: 1936826624.0000\n",
            "Epoch 33/100\n",
            "37/37 [==============================] - 0s 7ms/step - loss: 2983260416.0000 - val_loss: 1942460032.0000\n",
            "Epoch 34/100\n",
            "37/37 [==============================] - 0s 7ms/step - loss: 2927812608.0000 - val_loss: 1904403456.0000\n",
            "Epoch 35/100\n",
            "37/37 [==============================] - 0s 7ms/step - loss: 2874643968.0000 - val_loss: 1875638016.0000\n",
            "Epoch 36/100\n",
            "37/37 [==============================] - 0s 7ms/step - loss: 2846383360.0000 - val_loss: 1841120128.0000\n",
            "Epoch 37/100\n",
            "37/37 [==============================] - 0s 9ms/step - loss: 2794438144.0000 - val_loss: 1861460608.0000\n",
            "Epoch 38/100\n",
            "37/37 [==============================] - 0s 7ms/step - loss: 2759774464.0000 - val_loss: 1849870208.0000\n",
            "Epoch 39/100\n",
            "37/37 [==============================] - 0s 6ms/step - loss: 2725924608.0000 - val_loss: 1849753216.0000\n",
            "Epoch 40/100\n",
            "37/37 [==============================] - 0s 7ms/step - loss: 2700248064.0000 - val_loss: 1823560320.0000\n",
            "Epoch 41/100\n",
            "37/37 [==============================] - 0s 8ms/step - loss: 2671294720.0000 - val_loss: 1790205824.0000\n",
            "Epoch 42/100\n",
            "37/37 [==============================] - 0s 6ms/step - loss: 2634819840.0000 - val_loss: 1800864256.0000\n",
            "Epoch 43/100\n",
            "37/37 [==============================] - 0s 7ms/step - loss: 2612765440.0000 - val_loss: 1793122432.0000\n",
            "Epoch 44/100\n",
            "37/37 [==============================] - 0s 8ms/step - loss: 2589867520.0000 - val_loss: 1782302464.0000\n",
            "Epoch 45/100\n",
            "37/37 [==============================] - 0s 7ms/step - loss: 2569596416.0000 - val_loss: 1756414208.0000\n",
            "Epoch 46/100\n",
            "37/37 [==============================] - 0s 7ms/step - loss: 2569224704.0000 - val_loss: 1798546944.0000\n",
            "Epoch 47/100\n",
            "37/37 [==============================] - 0s 7ms/step - loss: 2533667584.0000 - val_loss: 1774646144.0000\n",
            "Epoch 48/100\n",
            "37/37 [==============================] - 0s 7ms/step - loss: 2505686784.0000 - val_loss: 1771644288.0000\n",
            "Epoch 49/100\n",
            "37/37 [==============================] - 0s 6ms/step - loss: 2492758272.0000 - val_loss: 1734773120.0000\n",
            "Epoch 50/100\n",
            "37/37 [==============================] - 0s 6ms/step - loss: 2477092864.0000 - val_loss: 1734262656.0000\n",
            "Epoch 51/100\n",
            "37/37 [==============================] - 0s 8ms/step - loss: 2471667200.0000 - val_loss: 1767170176.0000\n",
            "Epoch 52/100\n",
            "37/37 [==============================] - 0s 8ms/step - loss: 2451901184.0000 - val_loss: 1762214784.0000\n",
            "Epoch 53/100\n",
            "37/37 [==============================] - 0s 8ms/step - loss: 2434724864.0000 - val_loss: 1742045952.0000\n",
            "Epoch 54/100\n",
            "37/37 [==============================] - 0s 8ms/step - loss: 2417165056.0000 - val_loss: 1732307328.0000\n",
            "Epoch 55/100\n",
            "37/37 [==============================] - 0s 7ms/step - loss: 2414623232.0000 - val_loss: 1730434432.0000\n",
            "Epoch 56/100\n",
            "37/37 [==============================] - 0s 3ms/step - loss: 2397949184.0000 - val_loss: 1691830144.0000\n",
            "Epoch 57/100\n",
            "37/37 [==============================] - 0s 4ms/step - loss: 2386050816.0000 - val_loss: 1728302720.0000\n",
            "Epoch 58/100\n",
            "37/37 [==============================] - 0s 4ms/step - loss: 2372292864.0000 - val_loss: 1710798976.0000\n",
            "Epoch 59/100\n",
            "37/37 [==============================] - 0s 4ms/step - loss: 2372814848.0000 - val_loss: 1732211072.0000\n",
            "Epoch 60/100\n",
            "37/37 [==============================] - 0s 4ms/step - loss: 2358807808.0000 - val_loss: 1675422464.0000\n",
            "Epoch 61/100\n",
            "37/37 [==============================] - 0s 5ms/step - loss: 2351807488.0000 - val_loss: 1690269952.0000\n",
            "Epoch 62/100\n",
            "37/37 [==============================] - 0s 4ms/step - loss: 2337165568.0000 - val_loss: 1694764928.0000\n",
            "Epoch 63/100\n",
            "37/37 [==============================] - 0s 4ms/step - loss: 2336141568.0000 - val_loss: 1697932928.0000\n",
            "Epoch 64/100\n",
            "37/37 [==============================] - 0s 5ms/step - loss: 2318278656.0000 - val_loss: 1699633920.0000\n",
            "Epoch 65/100\n",
            "37/37 [==============================] - 0s 4ms/step - loss: 2314294528.0000 - val_loss: 1685545216.0000\n",
            "Epoch 66/100\n",
            "37/37 [==============================] - 0s 4ms/step - loss: 2317142272.0000 - val_loss: 1680540928.0000\n",
            "Epoch 67/100\n",
            "37/37 [==============================] - 0s 4ms/step - loss: 2303994112.0000 - val_loss: 1668114560.0000\n",
            "Epoch 68/100\n",
            "37/37 [==============================] - 0s 4ms/step - loss: 2294533376.0000 - val_loss: 1685476992.0000\n",
            "Epoch 69/100\n",
            "37/37 [==============================] - 0s 4ms/step - loss: 2288896768.0000 - val_loss: 1680669824.0000\n",
            "Epoch 70/100\n",
            "37/37 [==============================] - 0s 3ms/step - loss: 2279630848.0000 - val_loss: 1672354688.0000\n",
            "Epoch 71/100\n",
            "37/37 [==============================] - 0s 4ms/step - loss: 2276782336.0000 - val_loss: 1696000256.0000\n",
            "Epoch 72/100\n",
            "37/37 [==============================] - 0s 4ms/step - loss: 2261693696.0000 - val_loss: 1656431488.0000\n",
            "Epoch 73/100\n",
            "37/37 [==============================] - 0s 4ms/step - loss: 2256982528.0000 - val_loss: 1689747968.0000\n",
            "Epoch 74/100\n",
            "37/37 [==============================] - 0s 5ms/step - loss: 2256926720.0000 - val_loss: 1672128512.0000\n",
            "Epoch 75/100\n",
            "37/37 [==============================] - 0s 4ms/step - loss: 2258139136.0000 - val_loss: 1651814784.0000\n",
            "Epoch 76/100\n",
            "37/37 [==============================] - 0s 5ms/step - loss: 2248806912.0000 - val_loss: 1631164928.0000\n",
            "Epoch 77/100\n",
            "37/37 [==============================] - 0s 4ms/step - loss: 2245963776.0000 - val_loss: 1635834112.0000\n",
            "Epoch 78/100\n",
            "37/37 [==============================] - 0s 4ms/step - loss: 2239682304.0000 - val_loss: 1665506176.0000\n",
            "Epoch 79/100\n",
            "37/37 [==============================] - 0s 4ms/step - loss: 2234602240.0000 - val_loss: 1640739328.0000\n",
            "Epoch 80/100\n",
            "37/37 [==============================] - 0s 4ms/step - loss: 2229458176.0000 - val_loss: 1623364096.0000\n",
            "Epoch 81/100\n",
            "37/37 [==============================] - 0s 4ms/step - loss: 2224028928.0000 - val_loss: 1672073472.0000\n",
            "Epoch 82/100\n",
            "37/37 [==============================] - 0s 4ms/step - loss: 2222521856.0000 - val_loss: 1636085760.0000\n",
            "Epoch 83/100\n",
            "37/37 [==============================] - 0s 4ms/step - loss: 2221635584.0000 - val_loss: 1645044736.0000\n",
            "Epoch 84/100\n",
            "37/37 [==============================] - 0s 4ms/step - loss: 2224006144.0000 - val_loss: 1638254208.0000\n",
            "Epoch 85/100\n",
            "37/37 [==============================] - 0s 4ms/step - loss: 2220133632.0000 - val_loss: 1615668480.0000\n",
            "Epoch 86/100\n",
            "37/37 [==============================] - 0s 4ms/step - loss: 2212033280.0000 - val_loss: 1635323648.0000\n",
            "Epoch 87/100\n",
            "37/37 [==============================] - 0s 4ms/step - loss: 2200200448.0000 - val_loss: 1630391936.0000\n",
            "Epoch 88/100\n",
            "37/37 [==============================] - 0s 4ms/step - loss: 2196439808.0000 - val_loss: 1621414400.0000\n",
            "Epoch 89/100\n",
            "37/37 [==============================] - 0s 3ms/step - loss: 2197544704.0000 - val_loss: 1655219840.0000\n",
            "Epoch 90/100\n",
            "37/37 [==============================] - 0s 5ms/step - loss: 2197911808.0000 - val_loss: 1614344832.0000\n",
            "Epoch 91/100\n",
            "37/37 [==============================] - 0s 4ms/step - loss: 2217044224.0000 - val_loss: 1595506176.0000\n",
            "Epoch 92/100\n",
            "37/37 [==============================] - 0s 4ms/step - loss: 2201423104.0000 - val_loss: 1599958016.0000\n",
            "Epoch 93/100\n",
            "37/37 [==============================] - 0s 4ms/step - loss: 2204429568.0000 - val_loss: 1629567744.0000\n",
            "Epoch 94/100\n",
            "37/37 [==============================] - 0s 4ms/step - loss: 2188916736.0000 - val_loss: 1624998784.0000\n",
            "Epoch 95/100\n",
            "37/37 [==============================] - 0s 4ms/step - loss: 2187135488.0000 - val_loss: 1605614848.0000\n",
            "Epoch 96/100\n",
            "37/37 [==============================] - 0s 4ms/step - loss: 2182974464.0000 - val_loss: 1619412224.0000\n",
            "Epoch 97/100\n",
            "37/37 [==============================] - 0s 4ms/step - loss: 2176121600.0000 - val_loss: 1631244928.0000\n",
            "Epoch 98/100\n",
            "37/37 [==============================] - 0s 4ms/step - loss: 2185950976.0000 - val_loss: 1604054528.0000\n",
            "Epoch 99/100\n",
            "37/37 [==============================] - 0s 3ms/step - loss: 2179138816.0000 - val_loss: 1665686912.0000\n",
            "Epoch 100/100\n",
            "37/37 [==============================] - 0s 4ms/step - loss: 2167413504.0000 - val_loss: 1577441280.0000\n",
            "Model: \"sequential_1\"\n",
            "_________________________________________________________________\n",
            " Layer (type)                Output Shape              Param #   \n",
            "=================================================================\n",
            " dense_5 (Dense)             (None, 10)                110       \n",
            "                                                                 \n",
            " dense_6 (Dense)             (None, 10)                110       \n",
            "                                                                 \n",
            " dense_7 (Dense)             (None, 10)                110       \n",
            "                                                                 \n",
            " dense_8 (Dense)             (None, 10)                110       \n",
            "                                                                 \n",
            " dense_9 (Dense)             (None, 1)                 11        \n",
            "                                                                 \n",
            "=================================================================\n",
            "Total params: 451\n",
            "Trainable params: 451\n",
            "Non-trainable params: 0\n",
            "_________________________________________________________________\n"
          ]
        }
      ]
    },
    {
      "cell_type": "code",
      "source": [
        "loss_df = pd.DataFrame(model.history.history)\n",
        "loss_df.plot(figsize=(16,12))"
      ],
      "metadata": {
        "colab": {
          "base_uri": "https://localhost:8080/",
          "height": 1000
        },
        "id": "5zWZPlymTcYM",
        "outputId": "4755264d-c935-4277-c756-25da0f3b5c47"
      },
      "execution_count": null,
      "outputs": [
        {
          "output_type": "execute_result",
          "data": {
            "text/plain": [
              "<Axes: >"
            ]
          },
          "metadata": {},
          "execution_count": 52
        },
        {
          "output_type": "display_data",
          "data": {
            "text/plain": [
              "<Figure size 1600x1200 with 1 Axes>"
            ],
            "image/png": "[encoded data removed]"
          },
          "metadata": {}
        }
      ]
    },
    {
      "cell_type": "code",
      "source": [
        "y_pred = model.predict(X_test)"
      ],
      "metadata": {
        "colab": {
          "base_uri": "https://localhost:8080/"
        },
        "id": "G7H1aQ3xUv0p",
        "outputId": "29012cfc-30a3-44cd-d067-f80424781ee5"
      },
      "execution_count": null,
      "outputs": [
        {
          "output_type": "stream",
          "name": "stdout",
          "text": [
            "10/10 [==============================] - 0s 2ms/step\n"
          ]
        }
      ]
    },
    {
      "cell_type": "code",
      "source": [
        "mse_final = mean_squared_error(y_test, y_pred)\n",
        "print('MSE:', mse_final)"
      ],
      "metadata": {
        "colab": {
          "base_uri": "https://localhost:8080/"
        },
        "id": "Ei8KrNOFYbs5",
        "outputId": "9f93213f-7eec-4cef-edbc-5c623256b2e7"
      },
      "execution_count": null,
      "outputs": [
        {
          "output_type": "stream",
          "name": "stdout",
          "text": [
            "MSE: 1577441199.3003125\n"
          ]
        }
      ]
    }
  ]
}